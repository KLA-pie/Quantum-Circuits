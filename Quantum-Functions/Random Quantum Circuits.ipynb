{
 "cells": [
  {
   "cell_type": "raw",
   "metadata": {},
   "source": [
    "---\n",
    "execute:\n",
    "  enabled: false\n",
    "---"
   ]
  },
  {
   "attachments": {},
   "cell_type": "markdown",
   "metadata": {},
   "source": [
    "# IBM Quantum Computer Error Correction\n",
    "\n",
    "#### By: Kevin Lie-Atjam and Mihir Vemuri\n",
    "\n",
    "### Description: What is Quantum Computing?\n",
    "\n",
    "Quantum mechanics is the branch of physics that describes the behavior of matter and energy at a very small scale, such as atoms and subatomic particles. In the quantum world, particles can exist in multiple states at the same time, and can become \"entangled\" with each other, meaning that their states are connected in a way that is not possible in classical physics. While classical computers use bits, which can only exist in one of two states (either 0 or 1), quantum computers use quantum bits, or qubits, which can exist in a superposition of both states at the same time. Quantum computers use these principles to store and manipulate information in \"qubits\" instead of the \"bits\" used by classical computers. Qubits can exist in multiple states at once, allowing for many calculations to be performed simultaneously, and they can also become entangled with each other, enabling the computer to perform complex calculations much faster than classical computers.\n",
    "\n",
    "This property of superposition allows quantum computers to perform certain computations much faster than classical computers. In addition, quantum computers can use entanglement, a phenomenon in which two particles become linked and share information regardless of their distance from each other, to perform computations that would be impossible for classical computers. Below is the famous \"Schrodingers cat,\" as an conceptual example of particle superpsotion.\n",
    "\n",
    "![Alt text](Pictures_for_Notebook/Schrodingers-Cat_0.jpg)\n",
    "\n",
    "Quantum computing is still an emerging technology, and currently, only a few applications have been developed, such as quantum cryptography and quantum simulations. However, researchers are exploring the potential of quantum computing in many fields, including drug discovery, cryptography, and machine learning.\n",
    "\n",
    "## Our Project and Quantum Error\n",
    "\n",
    "IBM has an array of quantum computers and simulators(classical computers which essentially act like quantum computers), which have started exploring this incredibly new and untapped field. These computers are radically inventive, push the boundaries of quantum computing, and are easily accessible but can still be susceptible to Quantum error.\n",
    "\n",
    "Quantum error refers to errors that can occur due to reasons such as decoherence, noise, and other environmental factors. These errors can cause a quantum computer to produce incorrect results, which can be problematic in practical applications (\"Quantum Error Correction\" by Daniel Gottesman). One approach to mitigating quantum error is through the use of error correction codes. These codes allow quantum computers to detect and correct errors that occur during computation, improving the reliability and accuracy of the results. There are several types of error correction codes used in quantum computing, including surface codes, color codes, and topological codes (\"Quantum Error Correction for Beginners\" by Martin Laforest.) These codes are designed to encode information in such a way that errors can be detected and corrected, while minimizing the number of physical qubits required. \n",
    "\n",
    "With each application of a quantum computer, there is an expected result. **Our program attempts to identify whether error correction is required at an output from one of IBMs qunatum computers by generating a random quantum circuit based on quantum logic gates, finding the expected value of this random circuit, and then comparing the expected value to the actual output from IBM's backend by using a chi-squared test, to test for statistical significance.** In the following document, we will walk through this process and see whether the difference between the collected data from IBM's Backend and the expected values from the random circuit are at all statistically significant.\n",
    "\n",
    "## Random Circuit Function and the Quantum Logic Gates used \n",
    "\n",
    "This program is a Python implementation of a quantum circuit generator. It generates a randomized list of quantum gates and evaluates each gate within its specified parameters, such as random angle values and random qubit values.\n",
    "\n",
    "The program has two main functions: random_circuit and evaluate_circuit. The random_circuit function generates a randomized list of quantum gates based on a specified depth parameter. The function uses a dictionary POTENTIAL_GATES to store the potential quantum gates that can be included in the final list. The depth parameter specifies the number of gates that will be included in the final list. The function selects a random gate from the dictionary and appends it to an empty list gatelist. It then recursively calls itself with depth - 1 until depth is 0. The final output of the function is the gatelist.\n",
    "\n",
    "The evaluate_circuit function takes the random_gatelist output from the random_circuit function as its input. It then evaluates each gate within its specified parameters, such as random angle values and random qubit values. The function uses a QuantumCircuit object from Qiskit to create the quantum circuit with the randomly inputted values. The function also creates a list qubit_input_list to append each logic gate to and a dictionary counts that maps each qubit instance (00, 01, 10, 11) to the amount that each occurs in the random circuit.\n",
    "\n",
    "The function iterates through each gate in the random_gatelist and evaluates the gate based on its specified parameters. It then appends the inputted parameters for each gate to the qubit_input_list and the evaluated gate to the QuantumCircuit object. The function uses Qiskit's execute method to run the circuit and obtain the counts. The final output of the function is the qubit_input_list, the QuantumCircuit object, and the counts dictionary.\n",
    "\n",
    "It can be used to generate random quantum circuits for testing or visualization purposes.\n",
    "\n",
    "In the POTENTIAL_GATES dictionary, we have defined 20 quantum gates that will be used in randomizing the path/gates in the random circuit. The defined gates are below.\n",
    "\n",
    "1. QuantumCircuit.h: The Hadamard gate. It transforms the state of a qubit between the x and z bases, producing a superposition of 0 and 1.\n",
    "\n",
    "2. QuantumCircuit.y: The Y gate. It is a qubit rotation through pi radians around the y axis.\n",
    "\n",
    "3. QuantumCircuit.x: The X gate. It is a qubit rotation through pi radians around the x axis.\n",
    "\n",
    "4. QuantumCircuit.z: The Z gate. It is a qubit rotation through pi radians around the z axis.\n",
    "\n",
    "5. QuantumCircuit.p: The P gate (also known as the phase gate). It is parametrized and requires a number to tell it exactly what to perform. The P gate rotates the phase of a qubit by a specified angle in the direction of the Z-axis.\n",
    "\n",
    "6. QuantumCircuit.s: The S gate (also known as the phase gate or Z90 gate). It represents a 90-degree rotation around the z-axis.\n",
    "\n",
    "7. .sdg: The S-dagger gate. It is the inverse of the S gate.\n",
    "\n",
    "8. QuantumCircuit.t: The T gate. It represents a 45-degree rotation around the z-axis.\n",
    "\n",
    "9. QuantumCircuit.tdg: The T-dagger gate. It is the inverse of the T gate.\n",
    "\n",
    "10. QuantumCircuit.cx: The controlled-NOT gate. It applies the NOT gate to the second qubit only when the first qubit is in the state |1>.\n",
    "\n",
    "11. QuantumCircuit.swap: The SWAP gate. It swaps the states of two qubits.\n",
    "\n",
    "12. QuantumCircuit.sx: The SX gate. It is a rotation around the x-axis by pi/2 followed by a NOT gate.\n",
    "\n",
    "13. QuantumCircuit.sxdg: The SX-dagger gate. It is the inverse of the SX gate.\n",
    "\n",
    "14. QuantumCircuit.rx: The X-rotation gate. It is a qubit rotation around the x-axis by a specified angle.\n",
    "\n",
    "15. QuantumCircuit.ry: The Y-rotation gate. It is a qubit rotation around the y-axis by a specified angle.\n",
    "\n",
    "16. QuantumCircuit.rz: The Z-rotation gate. It is a qubit rotation around the z-axis by a specified angle.\n",
    "\n",
    "17. QuantumCircuit.rxx: The two-qubit XX-rotation gate. It is a rotation around the XX-axis by a specified angle.\n",
    "\n",
    "18. QuantumCircuit.ryy: The two-qubit YY-rotation gate. It is a rotation around the YY-axis by a specified angle.\n",
    "\n",
    "19. QuantumCircuit.rzz: The two-qubit ZZ-rotation gate. It is a rotation around the ZZ-axis by a specified angle.\n",
    "\n",
    "20. QuantumCircuit.u: The U3 gate. It is a general single-qubit rotation gate that can be used to construct any single-qubit unitary. It is parametrized and requires three angles to specify the rotation."
   ]
  },
  {
   "cell_type": "code",
   "execution_count": null,
   "metadata": {},
   "outputs": [
    {
     "name": "stdout",
     "output_type": "stream",
     "text": [
      "[['.sdg('], ['.z(', '.t('], ['.sx(', '.h(', '.cx('], ['.rz(', '.rxx(', '.x(', '.rx(', '.ry('], ['.sxdg(', '.rxx(', '.tdg(', '.s(', '.p(', '.u(', '.h('], ['.rx(', '.ry(', '.p(', '.sdg(', '.swap(', '.p(', '.s(', '.z(', '.swap(', '.cx('], ['.ry(', '.cx(', '.swap(', '.u(', '.rzz(', '.y(', '.sxdg(', '.tdg(', '.sxdg(', '.x(', '.tdg(', '.swap(', '.z(', '.y(', '.z(', '.cx(', '.rzz(', '.swap(', '.sxdg(', '.s('], ['.ry(', '.z(', '.sdg(', '.rx(', '.swap(', '.sxdg(', '.rxx(', '.z(', '.sdg(', '.swap(', '.t(', '.tdg(', '.h(', '.s(', '.p(', '.y(', '.swap(', '.rz(', '.cx(', '.u(', '.tdg(', '.t(', '.rx(', '.rx(', '.z(', '.sdg(', '.swap(', '.ry(', '.ryy(', '.s(', '.rxx(', '.rx(', '.h(', '.t(', '.sdg(', '.cx(', '.rzz(', '.ry(', '.y(', '.rxx(', '.rz(', '.rxx(', '.sx(', '.sdg(', '.z(', '.u(', '.y(', '.x(', '.swap(', '.y('], ['.rxx(', '.sx(', '.sxdg(', '.rz(', '.t(', '.rx(', '.rxx(', '.cx(', '.ry(', '.swap(', '.swap(', '.y(', '.sx(', '.rx(', '.x(', '.p(', '.sxdg(', '.rzz(', '.rxx(', '.sx(', '.cx(', '.x(', '.rz(', '.t(', '.y(', '.s(', '.z(', '.p(', '.sdg(', '.y(', '.rx(', '.sdg(', '.t(', '.x(', '.sxdg(', '.rxx(', '.u(', '.tdg(', '.rz(', '.rz(', '.p(', '.rzz(', '.cx(', '.sxdg(', '.swap(', '.t(', '.s(', '.ryy(', '.rx(', '.s(', '.sxdg(', '.rxx(', '.p(', '.y(', '.p(', '.z(', '.rz(', '.p(', '.x(', '.sx(', '.h(', '.rz(', '.y(', '.sxdg(', '.h(', '.rxx(', '.rx(', '.tdg(', '.sxdg(', '.sxdg(', '.tdg(', '.x(', '.s(', '.ryy(', '.x(', '.x(', '.swap(', '.sdg(', '.sx(', '.sdg(', '.swap(', '.u(', '.s(', '.rxx(', '.rz(', '.s(', '.t(', '.h(', '.x(', '.sdg(', '.sx(', '.z(', '.t(', '.p(', '.p(', '.h(', '.s(', '.ryy(', '.sxdg(', '.t('], ['.p(', '.tdg(', '.rx(', '.ry(', '.sx(', '.rx(', '.t(', '.swap(', '.ry(', '.p(', '.z(', '.ryy(', '.p(', '.rxx(', '.sx(', '.swap(', '.rx(', '.t(', '.sx(', '.ryy(', '.sxdg(', '.s(', '.h(', '.sxdg(', '.rxx(', '.ry(', '.z(', '.s(', '.rxx(', '.h(', '.tdg(', '.z(', '.tdg(', '.ry(', '.sxdg(', '.tdg(', '.p(', '.x(', '.rx(', '.rx(', '.rzz(', '.s(', '.s(', '.t(', '.rzz(', '.p(', '.rxx(', '.rzz(', '.sdg(', '.z(', '.sxdg(', '.x(', '.h(', '.ryy(', '.p(', '.cx(', '.ry(', '.swap(', '.cx(', '.rzz(', '.z(', '.t(', '.sx(', '.u(', '.sx(', '.ryy(', '.u(', '.tdg(', '.swap(', '.rx(', '.cx(', '.swap(', '.t(', '.swap(', '.sdg(', '.rz(', '.cx(', '.rx(', '.tdg(', '.p(', '.t(', '.rxx(', '.p(', '.t(', '.t(', '.sxdg(', '.cx(', '.p(', '.ry(', '.rx(', '.p(', '.cx(', '.u(', '.y(', '.cx(', '.cx(', '.cx(', '.z(', '.sxdg(', '.t(', '.ry(', '.t(', '.cx(', '.p(', '.y(', '.s(', '.u(', '.rxx(', '.cx(', '.p(', '.cx(', '.z(', '.rz(', '.sx(', '.sx(', '.sx(', '.z(', '.ryy(', '.swap(', '.sx(', '.ry(', '.h(', '.ryy(', '.s(', '.ryy(', '.u(', '.cx(', '.rx(', '.x(', '.rx(', '.s(', '.ry(', '.swap(', '.sx(', '.z(', '.ry(', '.sxdg(', '.cx(', '.rxx(', '.s(', '.h(', '.z(', '.swap(', '.sdg(', '.swap(', '.cx(', '.tdg(', '.p(', '.rxx(', '.sx(', '.sx(', '.sdg(', '.ry(', '.rx(', '.sx(', '.rz(', '.rz(', '.h(', '.rx(', '.rzz(', '.tdg(', '.rz(', '.sxdg(', '.sxdg(', '.s(', '.swap(', '.rxx(', '.rxx(', '.t(', '.y(', '.h(', '.swap(', '.sxdg(', '.sxdg(', '.x(', '.sxdg(', '.h(', '.h(', '.y(', '.rzz(', '.sx(', '.ry(', '.y(', '.u(', '.sx(', '.y(', '.rzz(', '.cx(', '.t(', '.rz(', '.rx(', '.u(', '.sx(', '.h(', '.u(', '.y(', '.cx(', '.x(', '.x(', '.sxdg(']]\n",
      "[(['.sdg(1)'], <qiskit.circuit.quantumcircuit.QuantumCircuit object at 0x7f4ff700c6a0>), (['.z(0)', '.t(0)'], <qiskit.circuit.quantumcircuit.QuantumCircuit object at 0x7f4f98915af0>), (['.sx(0)', '.h(0)', '.cx(0, 1)'], <qiskit.circuit.quantumcircuit.QuantumCircuit object at 0x7f4f989157c0>), (['.rz(1.0871024428387142, 1)', '.rxx(1.0871024428387142, 1, 0)', '.x(1)', '.rx(1.0871024428387142, 1)', '.ry(1.0871024428387142, 1)'], <qiskit.circuit.quantumcircuit.QuantumCircuit object at 0x7f4f98915e80>), (['.sxdg(1)', '.rxx(5.405703493495375, 1, 0)', '.t(1)', '.s(1)', '.p(5.405703493495375, 1)', '.u(5.405703493495375, 2.6450029595518316, 0.6682683047281822, 1)', '.h(1)'], <qiskit.circuit.quantumcircuit.QuantumCircuit object at 0x7f4f9893b190>), (['.rx(1.7206087503601846, 0)', '.ry(1.7206087503601846, 0)', '.p(1.7206087503601846, 0)', '.sdg(0)', '.rz(0,1)', '.p(1.7206087503601846, 0)', '.s(0)', '.z(0)', '.rz(0,1)', '.cx(0, 1)'], <qiskit.circuit.quantumcircuit.QuantumCircuit object at 0x7f4f9893b4c0>), (['.ry(0.5629875477630712, 1)', '.cx(1, 0)', '.rz(1,0)', '.u(0.5629875477630712, 3.1254648053502656, 0.9238353276963918, 1)', '.rzz(0.5629875477630712, 0, 1)', '.y(1)', '.sxdg(1)', '.t(1)', '.sxdg(1)', '.x(1)', '.t(1)', '.rz(1,0)', '.z(1)', '.y(1)', '.z(1)', '.cx(1, 0)', '.rzz(0.5629875477630712, 0, 1)', '.rz(1,0)', '.sxdg(1)', '.s(1)'], <qiskit.circuit.quantumcircuit.QuantumCircuit object at 0x7f4f9893b8b0>), (['.ry(2.084245517856454, 0)', '.z(0)', '.sdg(0)', '.rx(2.084245517856454, 0)', '.rz(0,1)', '.sxdg(0)', '.rxx(2.084245517856454, 0, 1)', '.z(0)', '.sdg(0)', '.rz(0,1)', '.t(0)', '.t(0)', '.h(0)', '.s(0)', '.p(2.084245517856454, 0)', '.y(0)', '.rz(0,1)', '.rz(2.084245517856454, 0)', '.cx(0, 1)', '.u(2.084245517856454, 2.1060708848341947, 4.170596965760426, 0)', '.t(0)', '.t(0)', '.rx(2.084245517856454, 0)', '.rx(2.084245517856454, 0)', '.z(0)', '.sdg(0)', '.rz(0,1)', '.ry(2.084245517856454, 0)', '.ryy(2.084245517856454, 0, 1)', '.s(0)', '.rxx(2.084245517856454, 0, 1)', '.rx(2.084245517856454, 0)', '.h(0)', '.t(0)', '.sdg(0)', '.cx(0, 1)', '.rzz(2.084245517856454, 0, 1)', '.ry(2.084245517856454, 0)', '.y(0)', '.rxx(2.084245517856454, 0, 1)', '.rz(2.084245517856454, 0)', '.rxx(2.084245517856454, 0, 1)', '.sx(0)', '.sdg(0)', '.z(0)', '.u(2.084245517856454, 2.1060708848341947, 4.170596965760426, 0)', '.y(0)', '.x(0)', '.rz(0,1)', '.y(0)'], <qiskit.circuit.quantumcircuit.QuantumCircuit object at 0x7f4f9893bfa0>), (['.rxx(0.03616591282945028, 0, 1)', '.sx(0)', '.sxdg(0)', '.rz(0.03616591282945028, 0)', '.t(0)', '.rx(0.03616591282945028, 0)', '.rxx(0.03616591282945028, 0, 1)', '.cx(0, 1)', '.ry(0.03616591282945028, 0)', '.rz(0,1)', '.rz(0,1)', '.y(0)', '.sx(0)', '.rx(0.03616591282945028, 0)', '.x(0)', '.p(0.03616591282945028, 0)', '.sxdg(0)', '.rzz(0.03616591282945028, 0, 1)', '.rxx(0.03616591282945028, 0, 1)', '.sx(0)', '.cx(0, 1)', '.x(0)', '.rz(0.03616591282945028, 0)', '.t(0)', '.y(0)', '.s(0)', '.z(0)', '.p(0.03616591282945028, 0)', '.sdg(0)', '.y(0)', '.rx(0.03616591282945028, 0)', '.sdg(0)', '.t(0)', '.x(0)', '.sxdg(0)', '.rxx(0.03616591282945028, 0, 1)', '.u(0.03616591282945028, 3.028960650606879, 5.863064599724045, 0)', '.t(0)', '.rz(0.03616591282945028, 0)', '.rz(0.03616591282945028, 0)', '.p(0.03616591282945028, 0)', '.rzz(0.03616591282945028, 0, 1)', '.cx(0, 1)', '.sxdg(0)', '.rz(0,1)', '.t(0)', '.s(0)', '.ryy(0.03616591282945028, 0, 1)', '.rx(0.03616591282945028, 0)', '.s(0)', '.sxdg(0)', '.rxx(0.03616591282945028, 0, 1)', '.p(0.03616591282945028, 0)', '.y(0)', '.p(0.03616591282945028, 0)', '.z(0)', '.rz(0.03616591282945028, 0)', '.p(0.03616591282945028, 0)', '.x(0)', '.sx(0)', '.h(0)', '.rz(0.03616591282945028, 0)', '.y(0)', '.sxdg(0)', '.h(0)', '.rxx(0.03616591282945028, 0, 1)', '.rx(0.03616591282945028, 0)', '.t(0)', '.sxdg(0)', '.sxdg(0)', '.t(0)', '.x(0)', '.s(0)', '.ryy(0.03616591282945028, 0, 1)', '.x(0)', '.x(0)', '.rz(0,1)', '.sdg(0)', '.sx(0)', '.sdg(0)', '.rz(0,1)', '.u(0.03616591282945028, 3.028960650606879, 5.863064599724045, 0)', '.s(0)', '.rxx(0.03616591282945028, 0, 1)', '.rz(0.03616591282945028, 0)', '.s(0)', '.t(0)', '.h(0)', '.x(0)', '.sdg(0)', '.sx(0)', '.z(0)', '.t(0)', '.p(0.03616591282945028, 0)', '.p(0.03616591282945028, 0)', '.h(0)', '.s(0)', '.ryy(0.03616591282945028, 0, 1)', '.sxdg(0)', '.t(0)'], <qiskit.circuit.quantumcircuit.QuantumCircuit object at 0x7f4f988c9340>), (['.p(5.684942149848774, 1)', '.t(1)', '.rx(5.684942149848774, 1)', '.ry(5.684942149848774, 1)', '.sx(1)', '.rx(5.684942149848774, 1)', '.t(1)', '.rz(1,0)', '.ry(5.684942149848774, 1)', '.p(5.684942149848774, 1)', '.z(1)', '.ryy(5.684942149848774, 0, 1)', '.p(5.684942149848774, 1)', '.rxx(5.684942149848774, 1, 0)', '.sx(1)', '.rz(1,0)', '.rx(5.684942149848774, 1)', '.t(1)', '.sx(1)', '.ryy(5.684942149848774, 0, 1)', '.sxdg(1)', '.s(1)', '.h(1)', '.sxdg(1)', '.rxx(5.684942149848774, 1, 0)', '.ry(5.684942149848774, 1)', '.z(1)', '.s(1)', '.rxx(5.684942149848774, 1, 0)', '.h(1)', '.t(1)', '.z(1)', '.t(1)', '.ry(5.684942149848774, 1)', '.sxdg(1)', '.t(1)', '.p(5.684942149848774, 1)', '.x(1)', '.rx(5.684942149848774, 1)', '.rx(5.684942149848774, 1)', '.rzz(5.684942149848774, 0, 1)', '.s(1)', '.s(1)', '.t(1)', '.rzz(5.684942149848774, 0, 1)', '.p(5.684942149848774, 1)', '.rxx(5.684942149848774, 1, 0)', '.rzz(5.684942149848774, 0, 1)', '.sdg(1)', '.z(1)', '.sxdg(1)', '.x(1)', '.h(1)', '.ryy(5.684942149848774, 0, 1)', '.p(5.684942149848774, 1)', '.cx(1, 0)', '.ry(5.684942149848774, 1)', '.rz(1,0)', '.cx(1, 0)', '.rzz(5.684942149848774, 0, 1)', '.z(1)', '.t(1)', '.sx(1)', '.u(5.684942149848774, 3.592473273493114, 4.20515492840434, 1)', '.sx(1)', '.ryy(5.684942149848774, 0, 1)', '.u(5.684942149848774, 3.592473273493114, 4.20515492840434, 1)', '.t(1)', '.rz(1,0)', '.rx(5.684942149848774, 1)', '.cx(1, 0)', '.rz(1,0)', '.t(1)', '.rz(1,0)', '.sdg(1)', '.rz(5.684942149848774, 1)', '.cx(1, 0)', '.rx(5.684942149848774, 1)', '.t(1)', '.p(5.684942149848774, 1)', '.t(1)', '.rxx(5.684942149848774, 1, 0)', '.p(5.684942149848774, 1)', '.t(1)', '.t(1)', '.sxdg(1)', '.cx(1, 0)', '.p(5.684942149848774, 1)', '.ry(5.684942149848774, 1)', '.rx(5.684942149848774, 1)', '.p(5.684942149848774, 1)', '.cx(1, 0)', '.u(5.684942149848774, 3.592473273493114, 4.20515492840434, 1)', '.y(1)', '.cx(1, 0)', '.cx(1, 0)', '.cx(1, 0)', '.z(1)', '.sxdg(1)', '.t(1)', '.ry(5.684942149848774, 1)', '.t(1)', '.cx(1, 0)', '.p(5.684942149848774, 1)', '.y(1)', '.s(1)', '.u(5.684942149848774, 3.592473273493114, 4.20515492840434, 1)', '.rxx(5.684942149848774, 1, 0)', '.cx(1, 0)', '.p(5.684942149848774, 1)', '.cx(1, 0)', '.z(1)', '.rz(5.684942149848774, 1)', '.sx(1)', '.sx(1)', '.sx(1)', '.z(1)', '.ryy(5.684942149848774, 0, 1)', '.rz(1,0)', '.sx(1)', '.ry(5.684942149848774, 1)', '.h(1)', '.ryy(5.684942149848774, 0, 1)', '.s(1)', '.ryy(5.684942149848774, 0, 1)', '.u(5.684942149848774, 3.592473273493114, 4.20515492840434, 1)', '.cx(1, 0)', '.rx(5.684942149848774, 1)', '.x(1)', '.rx(5.684942149848774, 1)', '.s(1)', '.ry(5.684942149848774, 1)', '.rz(1,0)', '.sx(1)', '.z(1)', '.ry(5.684942149848774, 1)', '.sxdg(1)', '.cx(1, 0)', '.rxx(5.684942149848774, 1, 0)', '.s(1)', '.h(1)', '.z(1)', '.rz(1,0)', '.sdg(1)', '.rz(1,0)', '.cx(1, 0)', '.t(1)', '.p(5.684942149848774, 1)', '.rxx(5.684942149848774, 1, 0)', '.sx(1)', '.sx(1)', '.sdg(1)', '.ry(5.684942149848774, 1)', '.rx(5.684942149848774, 1)', '.sx(1)', '.rz(5.684942149848774, 1)', '.rz(5.684942149848774, 1)', '.h(1)', '.rx(5.684942149848774, 1)', '.rzz(5.684942149848774, 0, 1)', '.t(1)', '.rz(5.684942149848774, 1)', '.sxdg(1)', '.sxdg(1)', '.s(1)', '.rz(1,0)', '.rxx(5.684942149848774, 1, 0)', '.rxx(5.684942149848774, 1, 0)', '.t(1)', '.y(1)', '.h(1)', '.rz(1,0)', '.sxdg(1)', '.sxdg(1)', '.x(1)', '.sxdg(1)', '.h(1)', '.h(1)', '.y(1)', '.rzz(5.684942149848774, 0, 1)', '.sx(1)', '.ry(5.684942149848774, 1)', '.y(1)', '.u(5.684942149848774, 3.592473273493114, 4.20515492840434, 1)', '.sx(1)', '.y(1)', '.rzz(5.684942149848774, 0, 1)', '.cx(1, 0)', '.t(1)', '.rz(5.684942149848774, 1)', '.rx(5.684942149848774, 1)', '.u(5.684942149848774, 3.592473273493114, 4.20515492840434, 1)', '.sx(1)', '.h(1)', '.u(5.684942149848774, 3.592473273493114, 4.20515492840434, 1)', '.y(1)', '.cx(1, 0)', '.x(1)', '.x(1)', '.sxdg(1)'], <qiskit.circuit.quantumcircuit.QuantumCircuit object at 0x7f4f988d6880>)]\n"
     ]
    }
   ],
   "source": [
    "from random_circuit import random_circuit,evaluate_circuit\n",
    "\n",
    "# RANDOM_CIRCUIT IMPLEMENTATION\n",
    "# Define a list of wanted input depths\n",
    "depth_list = [1,2,3,5,7,10,20,50,100,200]\n",
    "circuit_list= []\n",
    "# Append each depth case to an overall list\n",
    "for i in depth_list:\n",
    "    circuit_list.append(random_circuit(i,[]))\n",
    "\n",
    "# EVALUATE_CIRCUIT IMPLEMENTATION\n",
    "evaluated_circuit_list = []\n",
    "for i in circuit_list:\n",
    "    evaluated_circuit_list.append(evaluate_circuit(i))\n",
    "\n",
    "print(circuit_list)\n",
    "print(evaluated_circuit_list)\n",
    "\n"
   ]
  },
  {
   "attachments": {},
   "cell_type": "markdown",
   "metadata": {},
   "source": [
    "## Expected Value Function\n",
    "This code defines two functions for simulating a quantum circuit and calculating the output state vector and qubit probabilities. The first function, gate_matrix(), takes a gate instruction as a string and returns the corresponding 4x4 transformation matrix that is applied to the current state vector of the qubits. The second function, statevector_output(), takes a list of gate instructions and applies them sequentially to the initial state vector, returning the resulting state vector, its complex conjugate, and the probability density vector for each possible qubit configuration.\n",
    "\n",
    "The gate_matrix() function in this code defines the transformation matrices for a variety of quantum gates, including the Pauli X, Y, and Z gates, the Hadamard gate, and various rotation gates. These matrices are used to update the state vector of the qubits as they are passed through the circuit.\n",
    "\n",
    "The statevector_output() function applies the gates in the circuit sequentially, using the gate matrices to update the state vector at each step. The resulting state vector represents the quantum state of the qubits after the circuit has been executed. The function then calculates the probability density vector for each possible qubit configuration by taking the product of each state vector coefficient with its complex conjugate. This vector represents the probability of measuring each possible qubit configuration when the qubits are measured in the standard basis.\n"
   ]
  },
  {
   "cell_type": "code",
   "execution_count": null,
   "metadata": {},
   "outputs": [
    {
     "name": "stdout",
     "output_type": "stream",
     "text": [
      "10\n"
     ]
    }
   ],
   "source": [
    "from expected_value import statevector_output\n",
    "probability_listing = []\n",
    "\n",
    "for i in evaluated_circuit_list:\n",
    "    probability_listing.append(statevector_output(evaluated_circuit_list[i][0]))\n"
   ]
  },
  {
   "cell_type": "code",
   "execution_count": null,
   "metadata": {},
   "outputs": [],
   "source": [
    "from job_request import job_acquisition\n",
    "\n",
    "job_acquisition()"
   ]
  },
  {
   "attachments": {},
   "cell_type": "markdown",
   "metadata": {},
   "source": [
    "## Chi-Squared Significance Test\n",
    "\n",
    "The chi_squared function takes two input arguments: theory_val and experimental_val, which are lists of integers representing the expected and actual instances of IBM qubit configurations (00, 01, 10, 11) respectively. The function returns the Chi-squared value calculated between the expected and actual values of qubits. Chi-squared is a statistical measure of how well the observed data fits with the expected data, and it is commonly used in hypothesis testing.\n",
    "\n",
    "The significance_statement function takes the Chi-squared value calculated by the chi_squared function as input, along with an optional significance level (default value is 0.05). The function returns a string indicating whether or not the Chi-squared value is statistically significant at the specified significance level. The significance level represents the level of confidence that the experimental and theoretical data are independent, and is commonly set to 0.05 or 0.01.\n",
    "\n",
    "The function first defines a list of known Chi-squared values for different significance levels and degrees of freedom. It then iterates through the list to determine the closest Chi-squared value to the specified significance level. If the specified significance level is exactly equal to one of the values in the list, the corresponding Chi-squared value is used. If the specified significance level is not in the list, the function uses linear interpolation to estimate the Chi-squared value.\n",
    "\n",
    "Finally, the function compares the calculated Chi-squared value to the estimated Chi-squared value and returns a string indicating whether or not the calculated value is statistically significant at the specified level. The string includes the calculated Chi-squared value rounded to three decimal places for reference."
   ]
  },
  {
   "cell_type": "code",
   "execution_count": null,
   "metadata": {},
   "outputs": [],
   "source": [
    "from chi_squared_calc import chi_squared, significance_statement"
   ]
  },
  {
   "attachments": {},
   "cell_type": "markdown",
   "metadata": {},
   "source": [
    "## Results and Conclusion"
   ]
  }
 ],
 "metadata": {
  "kernelspec": {
   "display_name": "qiskit-stable",
   "language": "python",
   "name": "python3"
  },
  "language_info": {
   "codemirror_mode": {
    "name": "ipython",
    "version": 3
   },
   "file_extension": ".py",
   "mimetype": "text/x-python",
   "name": "python",
   "nbconvert_exporter": "python",
   "pygments_lexer": "ipython3",
   "version": "3.9.16"
  },
  "orig_nbformat": 4
 },
 "nbformat": 4,
 "nbformat_minor": 2
}
